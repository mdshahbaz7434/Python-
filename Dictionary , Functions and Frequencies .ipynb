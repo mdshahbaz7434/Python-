{
 "cells": [
  {
   "cell_type": "code",
   "execution_count": 7,
   "metadata": {},
   "outputs": [],
   "source": [
    "employee1 = ['Umair', 'Male', 150000, 'AI']"
   ]
  },
  {
   "cell_type": "code",
   "execution_count": 10,
   "metadata": {},
   "outputs": [
    {
     "data": {
      "text/plain": [
       "['Umair', 'Male', 150000, 'DS']"
      ]
     },
     "execution_count": 10,
     "metadata": {},
     "output_type": "execute_result"
    }
   ],
   "source": [
    "employee1[-1] = \"DS\"\n",
    "employee1"
   ]
  },
  {
   "cell_type": "code",
   "execution_count": 3,
   "metadata": {},
   "outputs": [
    {
     "data": {
      "text/plain": [
       "['Umair', 'Male', 150000, 'AI']"
      ]
     },
     "execution_count": 3,
     "metadata": {},
     "output_type": "execute_result"
    }
   ],
   "source": [
    "employee1"
   ]
  },
  {
   "cell_type": "markdown",
   "metadata": {},
   "source": [
    "## Dictionary"
   ]
  },
  {
   "cell_type": "markdown",
   "metadata": {},
   "source": [
    "### Dictionary is a key value pair "
   ]
  },
  {
   "cell_type": "code",
   "execution_count": 13,
   "metadata": {},
   "outputs": [],
   "source": [
    "employee1 = {\"Name\":'Umair', \"Gender\":'Male', \"Salary\":150000, \"Depart\":'AI'}"
   ]
  },
  {
   "cell_type": "code",
   "execution_count": 14,
   "metadata": {},
   "outputs": [
    {
     "data": {
      "text/plain": [
       "{'Name': 'Umair', 'Gender': 'Male', 'Salary': 150000, 'Depart': 'AI'}"
      ]
     },
     "execution_count": 14,
     "metadata": {},
     "output_type": "execute_result"
    }
   ],
   "source": [
    "employee1"
   ]
  },
  {
   "cell_type": "code",
   "execution_count": 17,
   "metadata": {},
   "outputs": [],
   "source": [
    "employee1[\"Depart\"] = \"AI & DS \"   # update "
   ]
  },
  {
   "cell_type": "code",
   "execution_count": 18,
   "metadata": {},
   "outputs": [
    {
     "data": {
      "text/plain": [
       "{'Name': 'Umair', 'Gender': 'Male', 'Salary': 150000, 'Depart': 'AI & DS '}"
      ]
     },
     "execution_count": 18,
     "metadata": {},
     "output_type": "execute_result"
    }
   ],
   "source": [
    "employee1"
   ]
  },
  {
   "cell_type": "code",
   "execution_count": 19,
   "metadata": {},
   "outputs": [],
   "source": [
    "employee1[\"Lastname\"] = \"Shakeel\"  # create "
   ]
  },
  {
   "cell_type": "code",
   "execution_count": 20,
   "metadata": {},
   "outputs": [
    {
     "data": {
      "text/plain": [
       "{'Name': 'Umair',\n",
       " 'Gender': 'Male',\n",
       " 'Salary': 150000,\n",
       " 'Depart': 'AI & DS ',\n",
       " 'Lastname': 'Shakeel'}"
      ]
     },
     "execution_count": 20,
     "metadata": {},
     "output_type": "execute_result"
    }
   ],
   "source": [
    "employee1   "
   ]
  },
  {
   "cell_type": "code",
   "execution_count": 23,
   "metadata": {},
   "outputs": [],
   "source": [
    "depart = ['AI',\"DS\",\"AS\",\"RD\",\"IT\",\"Security\",\"FinaD\", \"HR\", \"Logictsic\",\"sales\", \"doc\", \"audit\",\n",
    "         \"IT\",\"Security\",\"FinaD\", \"HR\", \"Logictsic\",\"sales\", \"doc\", \"audit\",\"IT\",\"Security\",\"FinaD\", \"HR\", \"Logictsic\",\"sales\",\"doc\", \"audit\",\n",
    "         \"IT\",\"Security\",\"FinaD\", \"HR\", \"Logictsic\",\"sales\", \"doc\", \"audit\",\"IT\",\"Security\",\"FinaD\", \"HR\", \"Logictsic\",\"sales\", \"doc\", \"audit\",\n",
    "          \"IT\",\"Security\",\"FinaD\", \"HR\", \"Logictsic\",\"sales\", \"doc\", \"audit\",\"FinaD\", \"HR\", \"Logictsic\",\"sales\", \"doc\", \"audit\",\n",
    "         \"IT\",\"Security\",\"FinaD\", \"HR\", \"Logictsic\",\"sales\", \"doc\", \"audit\",\"IT\",\"Security\",\"FinaD\", \"HR\", \"Logictsic\",\"sales\",\"doc\", \"audit\",\n",
    "         \"IT\",\"Security\",\"FinaD\", \"HR\", \"Logictsic\",\"sales\", \"doc\", \"audit\",\"IT\",\"Security\",\"FinaD\", \"HR\", \"Logictsic\",\"sales\", \"doc\", \"audit\",\n",
    "          \"IT\",\"Security\",\"FinaD\", \"HR\", \"Logictsic\",\"sales\", \"doc\", \"audit\",\"FinaD\", \"HR\", \"Logictsic\",\"sales\", \"doc\", \"audit\",\n",
    "         \"IT\",\"Security\",\"FinaD\", \"HR\", \"Logictsic\",\"sales\", \"doc\", \"audit\",\"IT\",\"Security\",\"FinaD\", \"HR\", \"Logictsic\",\"sales\",\"doc\", \"audit\",\n",
    "         \"IT\",\"Security\",\"FinaD\", \"HR\", \"Logictsic\",\"sales\", \"doc\", \"audit\",\"IT\",\"Security\",\"FinaD\", \"HR\", \"Logictsic\",\"sales\", \"doc\", \"audit\",\n",
    "          \"IT\",\"Security\",\"FinaD\", \"HR\", \"Logictsic\",\"sales\", \"doc\", \"audit\",\"FinaD\", \"HR\", \"Logictsic\",\"sales\", \"doc\", \"audit\",\n",
    "         \"IT\",\"Security\",\"FinaD\", \"HR\", \"Logictsic\",\"sales\", \"doc\", \"audit\",\"IT\",\"Security\",\"FinaD\", \"HR\", \"Logictsic\",\"sales\",\"doc\", \"audit\",\n",
    "         \"IT\",\"Security\",\"FinaD\", \"HR\", \"Logictsic\",\"sales\", \"doc\", \"audit\",\"IT\",\"Security\",\"FinaD\", \"HR\", \"Logictsic\",\"sales\", \"doc\", \"audit\",\n",
    "          \"IT\",\"Security\",\"FinaD\", \"HR\", \"Logictsic\",\"sales\", \"doc\", \"audit\",\"FinaD\", \"HR\", \"Logictsic\",\"sales\", \"doc\", \"audit\",\n",
    "         \"IT\",\"Security\",\"FinaD\", \"HR\", \"Logictsic\",\"sales\", \"doc\", \"audit\",\"IT\",\"Security\",\"FinaD\", \"HR\", \"Logictsic\",\"sales\",\"doc\", \"audit\",\n",
    "         \"IT\",\"Security\",\"FinaD\", \"HR\", \"Logictsic\",\"sales\", \"doc\", \"audit\",\"IT\",\"Security\",\"FinaD\", \"HR\", \"Logictsic\",\"sales\", \"doc\", \"audit\",\n",
    "          \"IT\",\"Security\",\"FinaD\", \"HR\", \"Logictsic\",\"sales\", \"doc\", \"audit\", \"FinaD\", \"HR\", \"Logictsic\",\"sales\", \"doc\", \"audit\",\n",
    "         \"IT\",\"Security\",\"FinaD\", \"HR\", \"Logictsic\",\"sales\", \"doc\", \"audit\",\"IT\",\"Security\",\"FinaD\", \"HR\", \"Logictsic\",\"sales\",\"doc\", \"audit\",\n",
    "         \"IT\",\"Security\",\"FinaD\", \"HR\", \"Logictsic\",\"sales\", \"doc\", \"audit\",\"IT\",\"Security\",\"FinaD\", \"HR\", \"Logictsic\",\"sales\", \"doc\", \"audit\",\n",
    "          \"IT\",\"Security\",\"FinaD\", \"HR\", \"Logictsic\",\"sales\", \"doc\", \"audit\", \"FinaD\", \"HR\", \"Logictsic\",\"sales\", \"doc\", \"audit\",\n",
    "         \"IT\",\"Security\",\"FinaD\", \"HR\", \"Logictsic\",\"sales\", \"doc\", \"audit\",\"IT\",\"Security\",\"FinaD\", \"HR\", \"Logictsic\",\"sales\",\"doc\", \"audit\",\n",
    "         \"IT\",\"Security\",\"FinaD\", \"HR\", \"Logictsic\",\"sales\", \"doc\", \"audit\",\"IT\",\"Security\",\"FinaD\", \"HR\", \"Logictsic\",\"sales\", \"doc\", \"audit\",\n",
    "          \"IT\",\"Security\",\"FinaD\", \"HR\", \"Logictsic\",\"sales\", \"doc\", \"audit\"]"
   ]
  },
  {
   "cell_type": "code",
   "execution_count": 24,
   "metadata": {},
   "outputs": [
    {
     "data": {
      "text/plain": [
       "['AI',\n",
       " 'DS',\n",
       " 'AS',\n",
       " 'RD',\n",
       " 'IT',\n",
       " 'Security',\n",
       " 'FinaD',\n",
       " 'HR',\n",
       " 'Logictsic',\n",
       " 'sales',\n",
       " 'doc',\n",
       " 'audit',\n",
       " 'IT',\n",
       " 'Security',\n",
       " 'FinaD',\n",
       " 'HR',\n",
       " 'Logictsic',\n",
       " 'sales',\n",
       " 'doc',\n",
       " 'audit',\n",
       " 'IT',\n",
       " 'Security',\n",
       " 'FinaD',\n",
       " 'HR',\n",
       " 'Logictsic',\n",
       " 'sales',\n",
       " 'doc',\n",
       " 'audit',\n",
       " 'IT',\n",
       " 'Security',\n",
       " 'FinaD',\n",
       " 'HR',\n",
       " 'Logictsic',\n",
       " 'sales',\n",
       " 'doc',\n",
       " 'audit',\n",
       " 'IT',\n",
       " 'Security',\n",
       " 'FinaD',\n",
       " 'HR',\n",
       " 'Logictsic',\n",
       " 'sales',\n",
       " 'doc',\n",
       " 'audit',\n",
       " 'IT',\n",
       " 'Security',\n",
       " 'FinaD',\n",
       " 'HR',\n",
       " 'Logictsic',\n",
       " 'sales',\n",
       " 'doc',\n",
       " 'audit',\n",
       " 'FinaD',\n",
       " 'HR',\n",
       " 'Logictsic',\n",
       " 'sales',\n",
       " 'doc',\n",
       " 'audit',\n",
       " 'IT',\n",
       " 'Security',\n",
       " 'FinaD',\n",
       " 'HR',\n",
       " 'Logictsic',\n",
       " 'sales',\n",
       " 'doc',\n",
       " 'audit',\n",
       " 'IT',\n",
       " 'Security',\n",
       " 'FinaD',\n",
       " 'HR',\n",
       " 'Logictsic',\n",
       " 'sales',\n",
       " 'doc',\n",
       " 'audit',\n",
       " 'IT',\n",
       " 'Security',\n",
       " 'FinaD',\n",
       " 'HR',\n",
       " 'Logictsic',\n",
       " 'sales',\n",
       " 'doc',\n",
       " 'audit',\n",
       " 'IT',\n",
       " 'Security',\n",
       " 'FinaD',\n",
       " 'HR',\n",
       " 'Logictsic',\n",
       " 'sales',\n",
       " 'doc',\n",
       " 'audit',\n",
       " 'IT',\n",
       " 'Security',\n",
       " 'FinaD',\n",
       " 'HR',\n",
       " 'Logictsic',\n",
       " 'sales',\n",
       " 'doc',\n",
       " 'audit',\n",
       " 'FinaD',\n",
       " 'HR',\n",
       " 'Logictsic',\n",
       " 'sales',\n",
       " 'doc',\n",
       " 'audit',\n",
       " 'IT',\n",
       " 'Security',\n",
       " 'FinaD',\n",
       " 'HR',\n",
       " 'Logictsic',\n",
       " 'sales',\n",
       " 'doc',\n",
       " 'audit',\n",
       " 'IT',\n",
       " 'Security',\n",
       " 'FinaD',\n",
       " 'HR',\n",
       " 'Logictsic',\n",
       " 'sales',\n",
       " 'doc',\n",
       " 'audit',\n",
       " 'IT',\n",
       " 'Security',\n",
       " 'FinaD',\n",
       " 'HR',\n",
       " 'Logictsic',\n",
       " 'sales',\n",
       " 'doc',\n",
       " 'audit',\n",
       " 'IT',\n",
       " 'Security',\n",
       " 'FinaD',\n",
       " 'HR',\n",
       " 'Logictsic',\n",
       " 'sales',\n",
       " 'doc',\n",
       " 'audit',\n",
       " 'IT',\n",
       " 'Security',\n",
       " 'FinaD',\n",
       " 'HR',\n",
       " 'Logictsic',\n",
       " 'sales',\n",
       " 'doc',\n",
       " 'audit',\n",
       " 'FinaD',\n",
       " 'HR',\n",
       " 'Logictsic',\n",
       " 'sales',\n",
       " 'doc',\n",
       " 'audit',\n",
       " 'IT',\n",
       " 'Security',\n",
       " 'FinaD',\n",
       " 'HR',\n",
       " 'Logictsic',\n",
       " 'sales',\n",
       " 'doc',\n",
       " 'audit',\n",
       " 'IT',\n",
       " 'Security',\n",
       " 'FinaD',\n",
       " 'HR',\n",
       " 'Logictsic',\n",
       " 'sales',\n",
       " 'doc',\n",
       " 'audit',\n",
       " 'IT',\n",
       " 'Security',\n",
       " 'FinaD',\n",
       " 'HR',\n",
       " 'Logictsic',\n",
       " 'sales',\n",
       " 'doc',\n",
       " 'audit',\n",
       " 'IT',\n",
       " 'Security',\n",
       " 'FinaD',\n",
       " 'HR',\n",
       " 'Logictsic',\n",
       " 'sales',\n",
       " 'doc',\n",
       " 'audit',\n",
       " 'IT',\n",
       " 'Security',\n",
       " 'FinaD',\n",
       " 'HR',\n",
       " 'Logictsic',\n",
       " 'sales',\n",
       " 'doc',\n",
       " 'audit',\n",
       " 'FinaD',\n",
       " 'HR',\n",
       " 'Logictsic',\n",
       " 'sales',\n",
       " 'doc',\n",
       " 'audit',\n",
       " 'IT',\n",
       " 'Security',\n",
       " 'FinaD',\n",
       " 'HR',\n",
       " 'Logictsic',\n",
       " 'sales',\n",
       " 'doc',\n",
       " 'audit',\n",
       " 'IT',\n",
       " 'Security',\n",
       " 'FinaD',\n",
       " 'HR',\n",
       " 'Logictsic',\n",
       " 'sales',\n",
       " 'doc',\n",
       " 'audit',\n",
       " 'IT',\n",
       " 'Security',\n",
       " 'FinaD',\n",
       " 'HR',\n",
       " 'Logictsic',\n",
       " 'sales',\n",
       " 'doc',\n",
       " 'audit',\n",
       " 'IT',\n",
       " 'Security',\n",
       " 'FinaD',\n",
       " 'HR',\n",
       " 'Logictsic',\n",
       " 'sales',\n",
       " 'doc',\n",
       " 'audit',\n",
       " 'IT',\n",
       " 'Security',\n",
       " 'FinaD',\n",
       " 'HR',\n",
       " 'Logictsic',\n",
       " 'sales',\n",
       " 'doc',\n",
       " 'audit',\n",
       " 'FinaD',\n",
       " 'HR',\n",
       " 'Logictsic',\n",
       " 'sales',\n",
       " 'doc',\n",
       " 'audit',\n",
       " 'IT',\n",
       " 'Security',\n",
       " 'FinaD',\n",
       " 'HR',\n",
       " 'Logictsic',\n",
       " 'sales',\n",
       " 'doc',\n",
       " 'audit',\n",
       " 'IT',\n",
       " 'Security',\n",
       " 'FinaD',\n",
       " 'HR',\n",
       " 'Logictsic',\n",
       " 'sales',\n",
       " 'doc',\n",
       " 'audit',\n",
       " 'IT',\n",
       " 'Security',\n",
       " 'FinaD',\n",
       " 'HR',\n",
       " 'Logictsic',\n",
       " 'sales',\n",
       " 'doc',\n",
       " 'audit',\n",
       " 'IT',\n",
       " 'Security',\n",
       " 'FinaD',\n",
       " 'HR',\n",
       " 'Logictsic',\n",
       " 'sales',\n",
       " 'doc',\n",
       " 'audit',\n",
       " 'IT',\n",
       " 'Security',\n",
       " 'FinaD',\n",
       " 'HR',\n",
       " 'Logictsic',\n",
       " 'sales',\n",
       " 'doc',\n",
       " 'audit',\n",
       " 'FinaD',\n",
       " 'HR',\n",
       " 'Logictsic',\n",
       " 'sales',\n",
       " 'doc',\n",
       " 'audit',\n",
       " 'IT',\n",
       " 'Security',\n",
       " 'FinaD',\n",
       " 'HR',\n",
       " 'Logictsic',\n",
       " 'sales',\n",
       " 'doc',\n",
       " 'audit',\n",
       " 'IT',\n",
       " 'Security',\n",
       " 'FinaD',\n",
       " 'HR',\n",
       " 'Logictsic',\n",
       " 'sales',\n",
       " 'doc',\n",
       " 'audit',\n",
       " 'IT',\n",
       " 'Security',\n",
       " 'FinaD',\n",
       " 'HR',\n",
       " 'Logictsic',\n",
       " 'sales',\n",
       " 'doc',\n",
       " 'audit',\n",
       " 'IT',\n",
       " 'Security',\n",
       " 'FinaD',\n",
       " 'HR',\n",
       " 'Logictsic',\n",
       " 'sales',\n",
       " 'doc',\n",
       " 'audit',\n",
       " 'IT',\n",
       " 'Security',\n",
       " 'FinaD',\n",
       " 'HR',\n",
       " 'Logictsic',\n",
       " 'sales',\n",
       " 'doc',\n",
       " 'audit']"
      ]
     },
     "execution_count": 24,
     "metadata": {},
     "output_type": "execute_result"
    }
   ],
   "source": [
    "depart"
   ]
  },
  {
   "cell_type": "code",
   "execution_count": 25,
   "metadata": {},
   "outputs": [
    {
     "name": "stdout",
     "output_type": "stream",
     "text": [
      "{'AI': 1, 'DS': 1, 'AS': 1, 'RD': 1, 'IT': 36, 'Security': 36, 'FinaD': 42, 'HR': 42, 'Logictsic': 42, 'sales': 42, 'doc': 42, 'audit': 42}\n"
     ]
    }
   ],
   "source": [
    "dept_dict = {}\n",
    "\n",
    "for i in depart:\n",
    "    dept_dict[i] = depart.count(i)\n",
    "\n",
    "print(dept_dict)\n"
   ]
  },
  {
   "cell_type": "markdown",
   "metadata": {},
   "source": [
    "### frequiencies "
   ]
  },
  {
   "cell_type": "code",
   "execution_count": 27,
   "metadata": {},
   "outputs": [
    {
     "data": {
      "text/plain": [
       "['AI',\n",
       " 'DS',\n",
       " 'AS',\n",
       " 'RD',\n",
       " 'IT',\n",
       " 'Security',\n",
       " 'FinaD',\n",
       " 'HR',\n",
       " 'Logictsic',\n",
       " 'sales',\n",
       " 'doc',\n",
       " 'audit',\n",
       " 'IT',\n",
       " 'Security',\n",
       " 'FinaD',\n",
       " 'HR',\n",
       " 'Logictsic',\n",
       " 'sales',\n",
       " 'doc',\n",
       " 'audit',\n",
       " 'IT',\n",
       " 'Security',\n",
       " 'FinaD',\n",
       " 'HR',\n",
       " 'Logictsic',\n",
       " 'sales',\n",
       " 'doc',\n",
       " 'audit',\n",
       " 'IT',\n",
       " 'Security',\n",
       " 'FinaD',\n",
       " 'HR',\n",
       " 'Logictsic',\n",
       " 'sales',\n",
       " 'doc',\n",
       " 'audit',\n",
       " 'IT',\n",
       " 'Security',\n",
       " 'FinaD',\n",
       " 'HR',\n",
       " 'Logictsic',\n",
       " 'sales',\n",
       " 'doc',\n",
       " 'audit',\n",
       " 'IT',\n",
       " 'Security',\n",
       " 'FinaD',\n",
       " 'HR',\n",
       " 'Logictsic',\n",
       " 'sales',\n",
       " 'doc',\n",
       " 'audit',\n",
       " 'FinaD',\n",
       " 'HR',\n",
       " 'Logictsic',\n",
       " 'sales',\n",
       " 'doc',\n",
       " 'audit',\n",
       " 'IT',\n",
       " 'Security',\n",
       " 'FinaD',\n",
       " 'HR',\n",
       " 'Logictsic',\n",
       " 'sales',\n",
       " 'doc',\n",
       " 'audit',\n",
       " 'IT',\n",
       " 'Security',\n",
       " 'FinaD',\n",
       " 'HR',\n",
       " 'Logictsic',\n",
       " 'sales',\n",
       " 'doc',\n",
       " 'audit',\n",
       " 'IT',\n",
       " 'Security',\n",
       " 'FinaD',\n",
       " 'HR',\n",
       " 'Logictsic',\n",
       " 'sales',\n",
       " 'doc',\n",
       " 'audit',\n",
       " 'IT',\n",
       " 'Security',\n",
       " 'FinaD',\n",
       " 'HR',\n",
       " 'Logictsic',\n",
       " 'sales',\n",
       " 'doc',\n",
       " 'audit',\n",
       " 'IT',\n",
       " 'Security',\n",
       " 'FinaD',\n",
       " 'HR',\n",
       " 'Logictsic',\n",
       " 'sales',\n",
       " 'doc',\n",
       " 'audit',\n",
       " 'FinaD',\n",
       " 'HR',\n",
       " 'Logictsic',\n",
       " 'sales',\n",
       " 'doc',\n",
       " 'audit',\n",
       " 'IT',\n",
       " 'Security',\n",
       " 'FinaD',\n",
       " 'HR',\n",
       " 'Logictsic',\n",
       " 'sales',\n",
       " 'doc',\n",
       " 'audit',\n",
       " 'IT',\n",
       " 'Security',\n",
       " 'FinaD',\n",
       " 'HR',\n",
       " 'Logictsic',\n",
       " 'sales',\n",
       " 'doc',\n",
       " 'audit',\n",
       " 'IT',\n",
       " 'Security',\n",
       " 'FinaD',\n",
       " 'HR',\n",
       " 'Logictsic',\n",
       " 'sales',\n",
       " 'doc',\n",
       " 'audit',\n",
       " 'IT',\n",
       " 'Security',\n",
       " 'FinaD',\n",
       " 'HR',\n",
       " 'Logictsic',\n",
       " 'sales',\n",
       " 'doc',\n",
       " 'audit',\n",
       " 'IT',\n",
       " 'Security',\n",
       " 'FinaD',\n",
       " 'HR',\n",
       " 'Logictsic',\n",
       " 'sales',\n",
       " 'doc',\n",
       " 'audit',\n",
       " 'FinaD',\n",
       " 'HR',\n",
       " 'Logictsic',\n",
       " 'sales',\n",
       " 'doc',\n",
       " 'audit',\n",
       " 'IT',\n",
       " 'Security',\n",
       " 'FinaD',\n",
       " 'HR',\n",
       " 'Logictsic',\n",
       " 'sales',\n",
       " 'doc',\n",
       " 'audit',\n",
       " 'IT',\n",
       " 'Security',\n",
       " 'FinaD',\n",
       " 'HR',\n",
       " 'Logictsic',\n",
       " 'sales',\n",
       " 'doc',\n",
       " 'audit',\n",
       " 'IT',\n",
       " 'Security',\n",
       " 'FinaD',\n",
       " 'HR',\n",
       " 'Logictsic',\n",
       " 'sales',\n",
       " 'doc',\n",
       " 'audit',\n",
       " 'IT',\n",
       " 'Security',\n",
       " 'FinaD',\n",
       " 'HR',\n",
       " 'Logictsic',\n",
       " 'sales',\n",
       " 'doc',\n",
       " 'audit',\n",
       " 'IT',\n",
       " 'Security',\n",
       " 'FinaD',\n",
       " 'HR',\n",
       " 'Logictsic',\n",
       " 'sales',\n",
       " 'doc',\n",
       " 'audit',\n",
       " 'FinaD',\n",
       " 'HR',\n",
       " 'Logictsic',\n",
       " 'sales',\n",
       " 'doc',\n",
       " 'audit',\n",
       " 'IT',\n",
       " 'Security',\n",
       " 'FinaD',\n",
       " 'HR',\n",
       " 'Logictsic',\n",
       " 'sales',\n",
       " 'doc',\n",
       " 'audit',\n",
       " 'IT',\n",
       " 'Security',\n",
       " 'FinaD',\n",
       " 'HR',\n",
       " 'Logictsic',\n",
       " 'sales',\n",
       " 'doc',\n",
       " 'audit',\n",
       " 'IT',\n",
       " 'Security',\n",
       " 'FinaD',\n",
       " 'HR',\n",
       " 'Logictsic',\n",
       " 'sales',\n",
       " 'doc',\n",
       " 'audit',\n",
       " 'IT',\n",
       " 'Security',\n",
       " 'FinaD',\n",
       " 'HR',\n",
       " 'Logictsic',\n",
       " 'sales',\n",
       " 'doc',\n",
       " 'audit',\n",
       " 'IT',\n",
       " 'Security',\n",
       " 'FinaD',\n",
       " 'HR',\n",
       " 'Logictsic',\n",
       " 'sales',\n",
       " 'doc',\n",
       " 'audit',\n",
       " 'FinaD',\n",
       " 'HR',\n",
       " 'Logictsic',\n",
       " 'sales',\n",
       " 'doc',\n",
       " 'audit',\n",
       " 'IT',\n",
       " 'Security',\n",
       " 'FinaD',\n",
       " 'HR',\n",
       " 'Logictsic',\n",
       " 'sales',\n",
       " 'doc',\n",
       " 'audit',\n",
       " 'IT',\n",
       " 'Security',\n",
       " 'FinaD',\n",
       " 'HR',\n",
       " 'Logictsic',\n",
       " 'sales',\n",
       " 'doc',\n",
       " 'audit',\n",
       " 'IT',\n",
       " 'Security',\n",
       " 'FinaD',\n",
       " 'HR',\n",
       " 'Logictsic',\n",
       " 'sales',\n",
       " 'doc',\n",
       " 'audit',\n",
       " 'IT',\n",
       " 'Security',\n",
       " 'FinaD',\n",
       " 'HR',\n",
       " 'Logictsic',\n",
       " 'sales',\n",
       " 'doc',\n",
       " 'audit',\n",
       " 'IT',\n",
       " 'Security',\n",
       " 'FinaD',\n",
       " 'HR',\n",
       " 'Logictsic',\n",
       " 'sales',\n",
       " 'doc',\n",
       " 'audit',\n",
       " 'FinaD',\n",
       " 'HR',\n",
       " 'Logictsic',\n",
       " 'sales',\n",
       " 'doc',\n",
       " 'audit',\n",
       " 'IT',\n",
       " 'Security',\n",
       " 'FinaD',\n",
       " 'HR',\n",
       " 'Logictsic',\n",
       " 'sales',\n",
       " 'doc',\n",
       " 'audit',\n",
       " 'IT',\n",
       " 'Security',\n",
       " 'FinaD',\n",
       " 'HR',\n",
       " 'Logictsic',\n",
       " 'sales',\n",
       " 'doc',\n",
       " 'audit',\n",
       " 'IT',\n",
       " 'Security',\n",
       " 'FinaD',\n",
       " 'HR',\n",
       " 'Logictsic',\n",
       " 'sales',\n",
       " 'doc',\n",
       " 'audit',\n",
       " 'IT',\n",
       " 'Security',\n",
       " 'FinaD',\n",
       " 'HR',\n",
       " 'Logictsic',\n",
       " 'sales',\n",
       " 'doc',\n",
       " 'audit',\n",
       " 'IT',\n",
       " 'Security',\n",
       " 'FinaD',\n",
       " 'HR',\n",
       " 'Logictsic',\n",
       " 'sales',\n",
       " 'doc',\n",
       " 'audit']"
      ]
     },
     "execution_count": 27,
     "metadata": {},
     "output_type": "execute_result"
    }
   ],
   "source": [
    "depart"
   ]
  },
  {
   "cell_type": "code",
   "execution_count": 29,
   "metadata": {},
   "outputs": [],
   "source": [
    "depart_dic = {}\n",
    "\n",
    "    #AI\n",
    "for i in depart:\n",
    "    if i not in depart_dic:\n",
    "        depart_dic[i] = 1\n",
    "    else:\n",
    "        depart_dic[i] += 1"
   ]
  },
  {
   "cell_type": "code",
   "execution_count": 30,
   "metadata": {},
   "outputs": [
    {
     "data": {
      "text/plain": [
       "{'AI': 1,\n",
       " 'DS': 1,\n",
       " 'AS': 1,\n",
       " 'RD': 1,\n",
       " 'IT': 36,\n",
       " 'Security': 36,\n",
       " 'FinaD': 42,\n",
       " 'HR': 42,\n",
       " 'Logictsic': 42,\n",
       " 'sales': 42,\n",
       " 'doc': 42,\n",
       " 'audit': 42}"
      ]
     },
     "execution_count": 30,
     "metadata": {},
     "output_type": "execute_result"
    }
   ],
   "source": [
    "depart_dic  "
   ]
  },
  {
   "cell_type": "code",
   "execution_count": 38,
   "metadata": {},
   "outputs": [
    {
     "name": "stdout",
     "output_type": "stream",
     "text": [
      "{'A': 1}\n"
     ]
    }
   ],
   "source": [
    "dept_dict = {}\n",
    "\n",
    "for i in depart:\n",
    "    dept_dict[i] = dept_dict.get(i,0)+1\n",
    "\n",
    "print(dept_dict)\n"
   ]
  },
  {
   "cell_type": "code",
   "execution_count": 34,
   "metadata": {},
   "outputs": [
    {
     "data": {
      "text/plain": [
       "{'AI': 1,\n",
       " 'DS': 1,\n",
       " 'AS': 1,\n",
       " 'RD': 1,\n",
       " 'IT': 36,\n",
       " 'Security': 36,\n",
       " 'FinaD': 42,\n",
       " 'HR': 42,\n",
       " 'Logictsic': 42,\n",
       " 'sales': 42,\n",
       " 'doc': 42,\n",
       " 'audit': 42}"
      ]
     },
     "execution_count": 34,
     "metadata": {},
     "output_type": "execute_result"
    }
   ],
   "source": [
    "depart_dic"
   ]
  },
  {
   "cell_type": "code",
   "execution_count": 39,
   "metadata": {},
   "outputs": [],
   "source": [
    "salary = 50000\n",
    "tax_ratio = 0.1"
   ]
  },
  {
   "cell_type": "code",
   "execution_count": 47,
   "metadata": {},
   "outputs": [],
   "source": [
    "tax = int(salary*tax)"
   ]
  },
  {
   "cell_type": "code",
   "execution_count": 49,
   "metadata": {},
   "outputs": [
    {
     "data": {
      "text/plain": [
       "5000"
      ]
     },
     "execution_count": 49,
     "metadata": {},
     "output_type": "execute_result"
    }
   ],
   "source": [
    "tax"
   ]
  },
  {
   "cell_type": "code",
   "execution_count": 50,
   "metadata": {},
   "outputs": [],
   "source": [
    "f_salary = salary - tax"
   ]
  },
  {
   "cell_type": "code",
   "execution_count": 51,
   "metadata": {},
   "outputs": [
    {
     "data": {
      "text/plain": [
       "45000"
      ]
     },
     "execution_count": 51,
     "metadata": {},
     "output_type": "execute_result"
    }
   ],
   "source": [
    "f_salary"
   ]
  },
  {
   "cell_type": "code",
   "execution_count": 52,
   "metadata": {},
   "outputs": [
    {
     "ename": "TypeError",
     "evalue": "'int' object is not callable",
     "output_type": "error",
     "traceback": [
      "\u001b[1;31m---------------------------------------------------------------------------\u001b[0m",
      "\u001b[1;31mTypeError\u001b[0m                                 Traceback (most recent call last)",
      "\u001b[1;32m<ipython-input-52-757d4326197e>\u001b[0m in \u001b[0;36m<module>\u001b[1;34m\u001b[0m\n\u001b[1;32m----> 1\u001b[1;33m \u001b[0msalary\u001b[0m\u001b[1;33m(\u001b[0m\u001b[1;36m55000\u001b[0m\u001b[1;33m,\u001b[0m\u001b[1;36m0.2\u001b[0m\u001b[1;33m)\u001b[0m\u001b[1;33m\u001b[0m\u001b[1;33m\u001b[0m\u001b[0m\n\u001b[0m",
      "\u001b[1;31mTypeError\u001b[0m: 'int' object is not callable"
     ]
    }
   ],
   "source": [
    "salary(55000,0.4)"
   ]
  },
  {
   "cell_type": "code",
   "execution_count": 53,
   "metadata": {},
   "outputs": [
    {
     "name": "stdout",
     "output_type": "stream",
     "text": [
      "all\n"
     ]
    }
   ],
   "source": [
    "print(\"all\")  # built in "
   ]
  },
  {
   "cell_type": "code",
   "execution_count": 54,
   "metadata": {},
   "outputs": [
    {
     "data": {
      "text/plain": [
       "5"
      ]
     },
     "execution_count": 54,
     "metadata": {},
     "output_type": "execute_result"
    }
   ],
   "source": [
    "len(employee1)"
   ]
  },
  {
   "cell_type": "code",
   "execution_count": 59,
   "metadata": {},
   "outputs": [],
   "source": [
    "def salary(sal,income_tax ):   # customized \n",
    "    tax = int(sal*income_tax)  # calculations\n",
    "    f_salary = sal - tax   # operations \n",
    "    return f_salary \n",
    "\n",
    "    "
   ]
  },
  {
   "cell_type": "code",
   "execution_count": 63,
   "metadata": {},
   "outputs": [
    {
     "data": {
      "text/plain": [
       "360000"
      ]
     },
     "execution_count": 63,
     "metadata": {},
     "output_type": "execute_result"
    }
   ],
   "source": [
    "salary(60000,0.4)"
   ]
  },
  {
   "cell_type": "code",
   "execution_count": 66,
   "metadata": {},
   "outputs": [],
   "source": [
    "def salary(sal,income_tax = 0.1):   # customized \n",
    "    tax = int(sal*income_tax)  # calculations\n",
    "    f_salary = sal - tax   # operations \n",
    "    return f_salary \n",
    "\n",
    "    "
   ]
  },
  {
   "cell_type": "code",
   "execution_count": 67,
   "metadata": {},
   "outputs": [
    {
     "data": {
      "text/plain": [
       "45000"
      ]
     },
     "execution_count": 67,
     "metadata": {},
     "output_type": "execute_result"
    }
   ],
   "source": [
    "salary(50000)"
   ]
  },
  {
   "cell_type": "code",
   "execution_count": 68,
   "metadata": {},
   "outputs": [],
   "source": [
    "def add(a,b):\n",
    "    return a+b\n",
    "    "
   ]
  },
  {
   "cell_type": "code",
   "execution_count": 69,
   "metadata": {},
   "outputs": [
    {
     "data": {
      "text/plain": [
       "9"
      ]
     },
     "execution_count": 69,
     "metadata": {},
     "output_type": "execute_result"
    }
   ],
   "source": [
    "add(4,5)"
   ]
  },
  {
   "cell_type": "code",
   "execution_count": null,
   "metadata": {},
   "outputs": [],
   "source": [
    "def add(a,b):\n",
    "    return a+b\n",
    "    "
   ]
  }
 ],
 "metadata": {
  "kernelspec": {
   "display_name": "Python 3",
   "language": "python",
   "name": "python3"
  },
  "language_info": {
   "codemirror_mode": {
    "name": "ipython",
    "version": 3
   },
   "file_extension": ".py",
   "mimetype": "text/x-python",
   "name": "python",
   "nbconvert_exporter": "python",
   "pygments_lexer": "ipython3",
   "version": "3.8.5"
  }
 },
 "nbformat": 4,
 "nbformat_minor": 4
}
