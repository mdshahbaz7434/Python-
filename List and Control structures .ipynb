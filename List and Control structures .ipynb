{
 "cells": [
  {
   "cell_type": "markdown",
   "metadata": {},
   "source": [
    "# Variable "
   ]
  },
  {
   "cell_type": "code",
   "execution_count": 1,
   "metadata": {},
   "outputs": [
    {
     "data": {
      "text/plain": [
       "'Mehwish'"
      ]
     },
     "execution_count": 1,
     "metadata": {},
     "output_type": "execute_result"
    }
   ],
   "source": [
    "var = \"Mehwish\" \n",
    "var"
   ]
  },
  {
   "cell_type": "code",
   "execution_count": 2,
   "metadata": {},
   "outputs": [
    {
     "data": {
      "text/plain": [
       "'lkiu'"
      ]
     },
     "execution_count": 2,
     "metadata": {},
     "output_type": "execute_result"
    }
   ],
   "source": [
    "aiou = \"lkiu\"\n",
    "aiou"
   ]
  },
  {
   "cell_type": "code",
   "execution_count": 3,
   "metadata": {},
   "outputs": [
    {
     "data": {
      "text/plain": [
       "'Shahbaz'"
      ]
     },
     "execution_count": 3,
     "metadata": {},
     "output_type": "execute_result"
    }
   ],
   "source": [
    "customer = \"Shahbaz\"  \n",
    "customer "
   ]
  },
  {
   "cell_type": "code",
   "execution_count": 4,
   "metadata": {},
   "outputs": [
    {
     "data": {
      "text/plain": [
       "'Shahbaz'"
      ]
     },
     "execution_count": 4,
     "metadata": {},
     "output_type": "execute_result"
    }
   ],
   "source": [
    "customer_ = \"Shahbaz\"  \n",
    "customer_"
   ]
  },
  {
   "cell_type": "code",
   "execution_count": 5,
   "metadata": {},
   "outputs": [
    {
     "data": {
      "text/plain": [
       "'Shahbaz'"
      ]
     },
     "execution_count": 5,
     "metadata": {},
     "output_type": "execute_result"
    }
   ],
   "source": [
    "customer_1 = \"Shahbaz\"  \n",
    "customer_1"
   ]
  },
  {
   "cell_type": "code",
   "execution_count": 6,
   "metadata": {},
   "outputs": [],
   "source": [
    "borrower_1_name = \"Shahbaz\"  \n",
    "borrower_1_salary = 20000\n",
    "borrower_1_gender = \"Male\"\n",
    "\n",
    "\n"
   ]
  },
  {
   "cell_type": "markdown",
   "metadata": {},
   "source": [
    "# List "
   ]
  },
  {
   "cell_type": "markdown",
   "metadata": {},
   "source": [
    "List is a data structure that stored mulitiple data types and also known hetrogenous "
   ]
  },
  {
   "cell_type": "code",
   "execution_count": 7,
   "metadata": {},
   "outputs": [
    {
     "data": {
      "text/plain": [
       "['Shahbaz', 'Male', 20000]"
      ]
     },
     "execution_count": 7,
     "metadata": {},
     "output_type": "execute_result"
    }
   ],
   "source": [
    "borrower_1 = [ \"Shahbaz\",\"Male\",20000]\n",
    "borrower_1"
   ]
  },
  {
   "cell_type": "code",
   "execution_count": 8,
   "metadata": {},
   "outputs": [
    {
     "data": {
      "text/plain": [
       "['Mehwish', 'Female', 30000]"
      ]
     },
     "execution_count": 8,
     "metadata": {},
     "output_type": "execute_result"
    }
   ],
   "source": [
    "borrower_2 = [\"Mehwish\",\"Female\",30000]\n",
    "borrower_2"
   ]
  },
  {
   "cell_type": "code",
   "execution_count": 9,
   "metadata": {},
   "outputs": [
    {
     "data": {
      "text/plain": [
       "str"
      ]
     },
     "execution_count": 9,
     "metadata": {},
     "output_type": "execute_result"
    }
   ],
   "source": [
    "name = \"Mehiwsh\"\n",
    "type(name)"
   ]
  },
  {
   "cell_type": "code",
   "execution_count": 10,
   "metadata": {},
   "outputs": [
    {
     "data": {
      "text/plain": [
       "list"
      ]
     },
     "execution_count": 10,
     "metadata": {},
     "output_type": "execute_result"
    }
   ],
   "source": [
    "type(borrower_2)"
   ]
  },
  {
   "cell_type": "code",
   "execution_count": 11,
   "metadata": {},
   "outputs": [
    {
     "data": {
      "text/plain": [
       "['Shahbaz', 'Male', 20000]"
      ]
     },
     "execution_count": 11,
     "metadata": {},
     "output_type": "execute_result"
    }
   ],
   "source": [
    "borrower_1"
   ]
  },
  {
   "cell_type": "code",
   "execution_count": 12,
   "metadata": {},
   "outputs": [
    {
     "data": {
      "text/plain": [
       "['Mehwish', 'Female', 30000]"
      ]
     },
     "execution_count": 12,
     "metadata": {},
     "output_type": "execute_result"
    }
   ],
   "source": [
    "borrower_2"
   ]
  },
  {
   "cell_type": "code",
   "execution_count": 13,
   "metadata": {},
   "outputs": [],
   "source": [
    "borrower_1.append(\"AI\")"
   ]
  },
  {
   "cell_type": "code",
   "execution_count": 14,
   "metadata": {},
   "outputs": [
    {
     "data": {
      "text/plain": [
       "['Shahbaz', 'Male', 20000, 'AI']"
      ]
     },
     "execution_count": 14,
     "metadata": {},
     "output_type": "execute_result"
    }
   ],
   "source": [
    "borrower_1"
   ]
  },
  {
   "cell_type": "code",
   "execution_count": 15,
   "metadata": {},
   "outputs": [
    {
     "data": {
      "text/plain": [
       "['Mehwish', 'Female', 30000]"
      ]
     },
     "execution_count": 15,
     "metadata": {},
     "output_type": "execute_result"
    }
   ],
   "source": [
    "borrower_2"
   ]
  },
  {
   "cell_type": "code",
   "execution_count": 16,
   "metadata": {},
   "outputs": [],
   "source": [
    "borrower_2.append(\"DS\")"
   ]
  },
  {
   "cell_type": "code",
   "execution_count": 17,
   "metadata": {},
   "outputs": [
    {
     "data": {
      "text/plain": [
       "['Mehwish', 'Female', 30000, 'DS']"
      ]
     },
     "execution_count": 17,
     "metadata": {},
     "output_type": "execute_result"
    }
   ],
   "source": [
    "borrower_2"
   ]
  },
  {
   "cell_type": "code",
   "execution_count": 18,
   "metadata": {},
   "outputs": [
    {
     "data": {
      "text/plain": [
       "['Shahbaz', 'Male', 20000, 'AI']"
      ]
     },
     "execution_count": 18,
     "metadata": {},
     "output_type": "execute_result"
    }
   ],
   "source": [
    "borrower_1"
   ]
  },
  {
   "cell_type": "code",
   "execution_count": 19,
   "metadata": {},
   "outputs": [
    {
     "data": {
      "text/plain": [
       "['Mehwish', 'Female', 30000, 'DS']"
      ]
     },
     "execution_count": 19,
     "metadata": {},
     "output_type": "execute_result"
    }
   ],
   "source": [
    "borrower_2"
   ]
  },
  {
   "cell_type": "code",
   "execution_count": 20,
   "metadata": {},
   "outputs": [],
   "source": [
    "borrower_2.remove(\"DS\")"
   ]
  },
  {
   "cell_type": "code",
   "execution_count": 21,
   "metadata": {},
   "outputs": [
    {
     "data": {
      "text/plain": [
       "['Mehwish', 'Female', 30000]"
      ]
     },
     "execution_count": 21,
     "metadata": {},
     "output_type": "execute_result"
    }
   ],
   "source": [
    "borrower_2"
   ]
  },
  {
   "cell_type": "code",
   "execution_count": 22,
   "metadata": {},
   "outputs": [],
   "source": [
    "borrower_2.append(\"RA\")"
   ]
  },
  {
   "cell_type": "code",
   "execution_count": 23,
   "metadata": {},
   "outputs": [
    {
     "ename": "ValueError",
     "evalue": "list.remove(x): x not in list",
     "output_type": "error",
     "traceback": [
      "\u001b[1;31m---------------------------------------------------------------------------\u001b[0m",
      "\u001b[1;31mValueError\u001b[0m                                Traceback (most recent call last)",
      "\u001b[1;32m<ipython-input-23-601d2324eb3f>\u001b[0m in \u001b[0;36m<module>\u001b[1;34m\u001b[0m\n\u001b[1;32m----> 1\u001b[1;33m \u001b[0mborrower_2\u001b[0m\u001b[1;33m.\u001b[0m\u001b[0mremove\u001b[0m\u001b[1;33m(\u001b[0m\u001b[1;34m\"R_A\"\u001b[0m\u001b[1;33m)\u001b[0m\u001b[1;33m\u001b[0m\u001b[1;33m\u001b[0m\u001b[0m\n\u001b[0m",
      "\u001b[1;31mValueError\u001b[0m: list.remove(x): x not in list"
     ]
    }
   ],
   "source": [
    "borrower_2.remove(\"R_A\")"
   ]
  },
  {
   "cell_type": "code",
   "execution_count": 24,
   "metadata": {},
   "outputs": [],
   "source": [
    "borrower_2.append(\"DS\")"
   ]
  },
  {
   "cell_type": "code",
   "execution_count": 25,
   "metadata": {},
   "outputs": [],
   "source": [
    "borrower_2.remove(\"RA\")"
   ]
  },
  {
   "cell_type": "markdown",
   "metadata": {},
   "source": [
    "## List indexing "
   ]
  },
  {
   "cell_type": "code",
   "execution_count": 26,
   "metadata": {},
   "outputs": [],
   "source": [
    "borrower_2[-1] = \"RA\"     # update"
   ]
  },
  {
   "cell_type": "code",
   "execution_count": 27,
   "metadata": {},
   "outputs": [
    {
     "data": {
      "text/plain": [
       "['Mehwish', 'Female', 30000, 'RA']"
      ]
     },
     "execution_count": 27,
     "metadata": {},
     "output_type": "execute_result"
    }
   ],
   "source": [
    "borrower_2"
   ]
  },
  {
   "cell_type": "code",
   "execution_count": 28,
   "metadata": {},
   "outputs": [],
   "source": [
    "borrower_2[3] = \"AA\""
   ]
  },
  {
   "cell_type": "code",
   "execution_count": 29,
   "metadata": {},
   "outputs": [
    {
     "data": {
      "text/plain": [
       "['Mehwish', 'Female', 30000, 'AA']"
      ]
     },
     "execution_count": 29,
     "metadata": {},
     "output_type": "execute_result"
    }
   ],
   "source": [
    "borrower_2"
   ]
  },
  {
   "cell_type": "code",
   "execution_count": 30,
   "metadata": {},
   "outputs": [],
   "source": [
    "import numpy as np "
   ]
  },
  {
   "cell_type": "code",
   "execution_count": 31,
   "metadata": {},
   "outputs": [
    {
     "data": {
      "text/plain": [
       "array([   0,    2,    4,    6,    8,   10,   12,   14,   16,   18,   20,\n",
       "         22,   24,   26,   28,   30,   32,   34,   36,   38,   40,   42,\n",
       "         44,   46,   48,   50,   52,   54,   56,   58,   60,   62,   64,\n",
       "         66,   68,   70,   72,   74,   76,   78,   80,   82,   84,   86,\n",
       "         88,   90,   92,   94,   96,   98,  100,  102,  104,  106,  108,\n",
       "        110,  112,  114,  116,  118,  120,  122,  124,  126,  128,  130,\n",
       "        132,  134,  136,  138,  140,  142,  144,  146,  148,  150,  152,\n",
       "        154,  156,  158,  160,  162,  164,  166,  168,  170,  172,  174,\n",
       "        176,  178,  180,  182,  184,  186,  188,  190,  192,  194,  196,\n",
       "        198,  200,  202,  204,  206,  208,  210,  212,  214,  216,  218,\n",
       "        220,  222,  224,  226,  228,  230,  232,  234,  236,  238,  240,\n",
       "        242,  244,  246,  248,  250,  252,  254,  256,  258,  260,  262,\n",
       "        264,  266,  268,  270,  272,  274,  276,  278,  280,  282,  284,\n",
       "        286,  288,  290,  292,  294,  296,  298,  300,  302,  304,  306,\n",
       "        308,  310,  312,  314,  316,  318,  320,  322,  324,  326,  328,\n",
       "        330,  332,  334,  336,  338,  340,  342,  344,  346,  348,  350,\n",
       "        352,  354,  356,  358,  360,  362,  364,  366,  368,  370,  372,\n",
       "        374,  376,  378,  380,  382,  384,  386,  388,  390,  392,  394,\n",
       "        396,  398,  400,  402,  404,  406,  408,  410,  412,  414,  416,\n",
       "        418,  420,  422,  424,  426,  428,  430,  432,  434,  436,  438,\n",
       "        440,  442,  444,  446,  448,  450,  452,  454,  456,  458,  460,\n",
       "        462,  464,  466,  468,  470,  472,  474,  476,  478,  480,  482,\n",
       "        484,  486,  488,  490,  492,  494,  496,  498,  500,  502,  504,\n",
       "        506,  508,  510,  512,  514,  516,  518,  520,  522,  524,  526,\n",
       "        528,  530,  532,  534,  536,  538,  540,  542,  544,  546,  548,\n",
       "        550,  552,  554,  556,  558,  560,  562,  564,  566,  568,  570,\n",
       "        572,  574,  576,  578,  580,  582,  584,  586,  588,  590,  592,\n",
       "        594,  596,  598,  600,  602,  604,  606,  608,  610,  612,  614,\n",
       "        616,  618,  620,  622,  624,  626,  628,  630,  632,  634,  636,\n",
       "        638,  640,  642,  644,  646,  648,  650,  652,  654,  656,  658,\n",
       "        660,  662,  664,  666,  668,  670,  672,  674,  676,  678,  680,\n",
       "        682,  684,  686,  688,  690,  692,  694,  696,  698,  700,  702,\n",
       "        704,  706,  708,  710,  712,  714,  716,  718,  720,  722,  724,\n",
       "        726,  728,  730,  732,  734,  736,  738,  740,  742,  744,  746,\n",
       "        748,  750,  752,  754,  756,  758,  760,  762,  764,  766,  768,\n",
       "        770,  772,  774,  776,  778,  780,  782,  784,  786,  788,  790,\n",
       "        792,  794,  796,  798,  800,  802,  804,  806,  808,  810,  812,\n",
       "        814,  816,  818,  820,  822,  824,  826,  828,  830,  832,  834,\n",
       "        836,  838,  840,  842,  844,  846,  848,  850,  852,  854,  856,\n",
       "        858,  860,  862,  864,  866,  868,  870,  872,  874,  876,  878,\n",
       "        880,  882,  884,  886,  888,  890,  892,  894,  896,  898,  900,\n",
       "        902,  904,  906,  908,  910,  912,  914,  916,  918,  920,  922,\n",
       "        924,  926,  928,  930,  932,  934,  936,  938,  940,  942,  944,\n",
       "        946,  948,  950,  952,  954,  956,  958,  960,  962,  964,  966,\n",
       "        968,  970,  972,  974,  976,  978,  980,  982,  984,  986,  988,\n",
       "        990,  992,  994,  996,  998, 1000, 1002, 1004, 1006, 1008, 1010,\n",
       "       1012, 1014, 1016, 1018, 1020, 1022, 1024, 1026, 1028, 1030, 1032,\n",
       "       1034, 1036, 1038, 1040, 1042, 1044, 1046, 1048, 1050, 1052, 1054,\n",
       "       1056, 1058, 1060, 1062, 1064, 1066, 1068, 1070, 1072, 1074, 1076,\n",
       "       1078, 1080, 1082, 1084, 1086, 1088, 1090, 1092, 1094, 1096, 1098,\n",
       "       1100, 1102, 1104, 1106, 1108, 1110, 1112, 1114, 1116, 1118, 1120,\n",
       "       1122, 1124, 1126, 1128, 1130, 1132, 1134, 1136, 1138, 1140, 1142,\n",
       "       1144, 1146, 1148, 1150, 1152, 1154, 1156, 1158, 1160, 1162, 1164,\n",
       "       1166, 1168, 1170, 1172, 1174, 1176, 1178, 1180, 1182, 1184, 1186,\n",
       "       1188, 1190, 1192, 1194, 1196, 1198, 1200, 1202, 1204, 1206, 1208,\n",
       "       1210, 1212, 1214, 1216, 1218, 1220, 1222, 1224, 1226, 1228, 1230,\n",
       "       1232, 1234, 1236, 1238, 1240, 1242, 1244, 1246, 1248, 1250, 1252,\n",
       "       1254, 1256, 1258, 1260, 1262, 1264, 1266, 1268, 1270, 1272, 1274,\n",
       "       1276])"
      ]
     },
     "execution_count": 31,
     "metadata": {},
     "output_type": "execute_result"
    }
   ],
   "source": [
    "np.arange(1277, step = 2)"
   ]
  },
  {
   "cell_type": "code",
   "execution_count": 32,
   "metadata": {},
   "outputs": [],
   "source": [
    "age = [   0,    2,    4,    6,    8,   10,   12,   14,   16,   18,   20,\n",
    "         22,   24,   26,   28,   30,   32,   34,   36,   38,   40,   42,\n",
    "         44,   46,   48,   50,   52,   54,   56,   58,   60,   62,   64,\n",
    "         66,   68,   70,   72,   74,   76,   78,   80,   82,   84,   86,\n",
    "         88,   90,   92,   94,   96,   98,  100,  102,  104,  106,  108,\n",
    "        110,  112,  114,  116,  118,  120,  122,  124,  126,  128,  130,\n",
    "        132,  134,  136,  138,  140,  142,  144,  146,  148,  150,  152,\n",
    "        154,  156,  158,  160,  162,  164,  166,  168,  170,  172,  174,\n",
    "        176,  178,  180,  182,  184,  186,  188,  190,  192,  194,  196,\n",
    "        198,  200,  202,  204,  206,  208,  210,  212,  214,  216,  218,\n",
    "        220,  222,  224,  226,  228,  230,  232,  234,  236,  238,  240,\n",
    "        242,  244,  246,  248,  250,  252,  254,  256,  258,  260,  262,\n",
    "        264,  266,  268,  270,  272,  274,  276,  278,  280,  282,  284,\n",
    "        286,  288,  290,  292,  294,  296,  298,  300,  302,  304,  306,\n",
    "        308,  310,  312,  314,  316,  318,  320,  322,  324,  326,  328,\n",
    "        330,  332,  334,  336,  338,  340,  342,  344,  346,  348,  350,\n",
    "        352,  354,  356,  358,  360,  362,  364,  366,  368,  370,  372,\n",
    "        374,  376,  378,  380,  382,  384,  386,  388,  390,  392,  394,\n",
    "        396,  398,  400,  402,  404,  406,  408,  410,  412,  414,  416,\n",
    "        418,  420,  422,  424,  426,  428,  430,  432,  434,  436,  438,\n",
    "        440,  442,  444,  446,  448,  450,  452,  454,  456,  458,  460,\n",
    "        462,  464,  466,  468,  470,  472,  474,  476,  478,  480,  482,\n",
    "        484,  486,  488,  490,  492,  494,  496,  498,  500,  502,  504,\n",
    "        506,  508,  510,  512,  514,  516,  518,  520,  522,  524,  526,\n",
    "        528,  530,  532,  534,  536,  538,  540,  542,  544,  546,  548,\n",
    "        550,  552,  554,  556,  558,  560,  562,  564,  566,  568,  570,\n",
    "        572,  574,  576,  578,  580,  582,  584,  586,  588,  590,  592,\n",
    "        594,  596,  598,  600,  602,  604,  606,  608,  610,  612,  614,\n",
    "        616,  618,  620,  622,  624,  626,  628,  630,  632,  634,  636,\n",
    "        638,  640,  642,  644,  646,  648,  650,  652,  654,  656,  658,\n",
    "        660,  662,  664,  666,  668,  670,  672,  674,  676,  678,  680,\n",
    "        682,  684,  686,  688,  690,  692,  694,  696,  698,  700,  702,\n",
    "        704,  706,  708,  710,  712,  714,  716,  718,  720,  722,  724,\n",
    "        726,  728,  730,  732,  734,  736,  738,  740,  742,  744,  746,\n",
    "        748,  750,  752,  754,  756,  758,  760,  762,  764,  766,  768,\n",
    "        770,  772,  774,  776,  778,  780,  782,  784,  786,  788,  790,\n",
    "        792,  794,  796,  798,  800,  802,  804,  806,  808,  810,  812,\n",
    "        814,  816,  818,  820,  822,  824,  826,  828,  830,  832,  834,\n",
    "        836,  838,  840,  842,  844,  846,  848,  850,  852,  854,  856,\n",
    "        858,  860,  862,  864,  866,  868,  870,  872,  874,  876,  878,\n",
    "        880,  882,  884,  886,  888,  890,  892,  894,  896,  898,  900,\n",
    "        902,  904,  906,  908,  910,  912,  914,  916,  918,  920,  922,\n",
    "        924,  926,  928,  930,  932,  934,  936,  938,  940,  942,  944,\n",
    "        946,  948,  950,  952,  954,  956,  958,  960,  962,  964,  966,\n",
    "        968,  970,  972,  974,  976,  978,  980,  982,  984,  986,  988,\n",
    "        990,  992,  994,  996,  998, 1000, 1002, 1004, 1006, 1008, 1010,\n",
    "       1012, 1014, 1016, 1018, 1020, 1022, 1024, 1026, 1028, 1030, 1032,\n",
    "       1034, 1036, 1038, 1040, 1042, 1044, 1046, 1048, 1050, 1052, 1054,\n",
    "       1056, 1058, 1060, 1062, 1064, 1066, 1068, 1070, 1072, 1074, 1076,\n",
    "       1078, 1080, 1082, 1084, 1086, 1088, 1090, 1092, 1094, 1096, 1098,\n",
    "       1100, 1102, 1104, 1106, 1108, 1110, 1112, 1114, 1116, 1118, 1120,\n",
    "       1122, 1124, 1126, 1128, 1130, 1132, 1134, 1136, 1138, 1140, 1142,\n",
    "       1144, 1146, 1148, 1150, 1152, 1154, 1156, 1158, 1160, 1162, 1164,\n",
    "       1166, 1168, 1170, 1172, 1174, 1176, 1178, 1180, 1182, 1184, 1186,\n",
    "       1188, 1190, 1192, 1194, 1196, 1198, 1200, 1202, 1204, 1206, 1208,\n",
    "       1210, 1212, 1214, 1216, 1218, 1220, 1222, 1224, 1226, 1228, 1230,\n",
    "       1232, 1234, 1236, 1238, 1240, 1242, 1244, 1246, 1248, 1250, 1252,\n",
    "       1254, 1256, 1258, 1260, 1262, 1264, 1266, 1268, 1270, 1272, 1274,\n",
    "       1276]"
   ]
  },
  {
   "cell_type": "code",
   "execution_count": 33,
   "metadata": {},
   "outputs": [
    {
     "data": {
      "text/plain": [
       "1266"
      ]
     },
     "execution_count": 33,
     "metadata": {},
     "output_type": "execute_result"
    }
   ],
   "source": [
    "age[-6]  #index"
   ]
  },
  {
   "cell_type": "markdown",
   "metadata": {},
   "source": [
    "  -inf -----_2-----_1--- 0 ----1--2----- +inf"
   ]
  },
  {
   "cell_type": "code",
   "execution_count": 34,
   "metadata": {},
   "outputs": [
    {
     "data": {
      "text/plain": [
       "389"
      ]
     },
     "execution_count": 34,
     "metadata": {},
     "output_type": "execute_result"
    }
   ],
   "source": [
    "age.index(778)"
   ]
  },
  {
   "cell_type": "code",
   "execution_count": 35,
   "metadata": {},
   "outputs": [],
   "source": [
    "age[389] =775"
   ]
  },
  {
   "cell_type": "code",
   "execution_count": 36,
   "metadata": {},
   "outputs": [
    {
     "data": {
      "text/plain": [
       "['Shahbaz', 'Male', 20000, 'AI']"
      ]
     },
     "execution_count": 36,
     "metadata": {},
     "output_type": "execute_result"
    }
   ],
   "source": [
    "borrower_1"
   ]
  },
  {
   "cell_type": "code",
   "execution_count": 37,
   "metadata": {},
   "outputs": [
    {
     "data": {
      "text/plain": [
       "['Mehwish', 'Female', 30000, 'AA']"
      ]
     },
     "execution_count": 37,
     "metadata": {},
     "output_type": "execute_result"
    }
   ],
   "source": [
    "borrower_2"
   ]
  },
  {
   "cell_type": "code",
   "execution_count": 38,
   "metadata": {},
   "outputs": [],
   "source": [
    "borrower_1[0] = \"Shahbaz Muneer\""
   ]
  },
  {
   "cell_type": "code",
   "execution_count": 39,
   "metadata": {},
   "outputs": [],
   "source": [
    "borrower_2[0] = \"Shahbaz Muneer\""
   ]
  },
  {
   "cell_type": "code",
   "execution_count": 40,
   "metadata": {},
   "outputs": [
    {
     "data": {
      "text/plain": [
       "['Shahbaz Muneer', 'Male', 20000, 'AI']"
      ]
     },
     "execution_count": 40,
     "metadata": {},
     "output_type": "execute_result"
    }
   ],
   "source": [
    "borrower_1"
   ]
  },
  {
   "cell_type": "code",
   "execution_count": 41,
   "metadata": {},
   "outputs": [],
   "source": [
    "borrower_2[0] = \"Mehwish Alam\""
   ]
  },
  {
   "cell_type": "code",
   "execution_count": 42,
   "metadata": {},
   "outputs": [
    {
     "data": {
      "text/plain": [
       "['Mehwish Alam', 'Female', 30000, 'AA']"
      ]
     },
     "execution_count": 42,
     "metadata": {},
     "output_type": "execute_result"
    }
   ],
   "source": [
    "borrower_2"
   ]
  },
  {
   "cell_type": "code",
   "execution_count": 43,
   "metadata": {},
   "outputs": [
    {
     "data": {
      "text/plain": [
       "['Shahbaz Muneer', 'Male', 20000, 'AI']"
      ]
     },
     "execution_count": 43,
     "metadata": {},
     "output_type": "execute_result"
    }
   ],
   "source": [
    "borrower_1\n"
   ]
  },
  {
   "cell_type": "code",
   "execution_count": 44,
   "metadata": {},
   "outputs": [
    {
     "data": {
      "text/plain": [
       "['Mehwish Alam', 'Female', 30000, 'AA']"
      ]
     },
     "execution_count": 44,
     "metadata": {},
     "output_type": "execute_result"
    }
   ],
   "source": [
    "borrower_2"
   ]
  },
  {
   "cell_type": "code",
   "execution_count": 45,
   "metadata": {},
   "outputs": [],
   "source": [
    "borrower_2[0] = 'Mehwish Ibrahim'"
   ]
  },
  {
   "cell_type": "code",
   "execution_count": 46,
   "metadata": {},
   "outputs": [
    {
     "name": "stdout",
     "output_type": "stream",
     "text": [
      "['Shahbaz Muneer', 'Male', 20000, 'AI']\n",
      "['Mehwish Ibrahim', 'Female', 30000, 'AA']\n"
     ]
    }
   ],
   "source": [
    "print(borrower_1)\n",
    "print(borrower_2)"
   ]
  },
  {
   "cell_type": "code",
   "execution_count": 47,
   "metadata": {},
   "outputs": [],
   "source": [
    "borrower_1.append(25)\n",
    "borrower_1.append(22)"
   ]
  },
  {
   "cell_type": "code",
   "execution_count": 48,
   "metadata": {},
   "outputs": [
    {
     "name": "stdout",
     "output_type": "stream",
     "text": [
      "['Shahbaz Muneer', 'Male', 20000, 'AI', 25, 22]\n",
      "['Mehwish Ibrahim', 'Female', 30000, 'AA']\n"
     ]
    }
   ],
   "source": [
    "print(borrower_1)\n",
    "print(borrower_2)"
   ]
  },
  {
   "cell_type": "code",
   "execution_count": 49,
   "metadata": {},
   "outputs": [],
   "source": [
    "borrower_1.remove(25)"
   ]
  },
  {
   "cell_type": "code",
   "execution_count": 50,
   "metadata": {},
   "outputs": [
    {
     "data": {
      "text/plain": [
       "['Shahbaz Muneer', 'Male', 20000, 'AI', 22]"
      ]
     },
     "execution_count": 50,
     "metadata": {},
     "output_type": "execute_result"
    }
   ],
   "source": [
    "borrower_1"
   ]
  },
  {
   "cell_type": "markdown",
   "metadata": {},
   "source": [
    "# indexing Slicing "
   ]
  },
  {
   "cell_type": "code",
   "execution_count": 51,
   "metadata": {},
   "outputs": [
    {
     "data": {
      "text/plain": [
       "[22]"
      ]
     },
     "execution_count": 51,
     "metadata": {},
     "output_type": "execute_result"
    }
   ],
   "source": [
    "borrower_1[  4  :      ]"
   ]
  },
  {
   "cell_type": "code",
   "execution_count": 52,
   "metadata": {},
   "outputs": [],
   "source": [
    "del(borrower_1[4:])"
   ]
  },
  {
   "cell_type": "code",
   "execution_count": 53,
   "metadata": {},
   "outputs": [
    {
     "data": {
      "text/plain": [
       "['Shahbaz Muneer', 'Male', 20000, 'AI']"
      ]
     },
     "execution_count": 53,
     "metadata": {},
     "output_type": "execute_result"
    }
   ],
   "source": [
    "borrower_1"
   ]
  },
  {
   "cell_type": "code",
   "execution_count": 54,
   "metadata": {},
   "outputs": [
    {
     "name": "stdout",
     "output_type": "stream",
     "text": [
      "['Shahbaz Muneer', 'Male', 20000, 'AI']\n",
      "['Mehwish Ibrahim', 'Female', 30000, 'AA']\n"
     ]
    }
   ],
   "source": [
    "print(borrower_1)\n",
    "print(borrower_2)"
   ]
  },
  {
   "cell_type": "code",
   "execution_count": 55,
   "metadata": {},
   "outputs": [],
   "source": [
    "customers = [borrower_1,borrower_2,\n",
    "             ['Alisha khan', 'Female', 60000, 'CA'],\n",
    "             ['Nabiha Nafees', 'Female', 50000, 'ML']\n",
    "            ]"
   ]
  },
  {
   "cell_type": "markdown",
   "metadata": {},
   "source": [
    "# List of List "
   ]
  },
  {
   "cell_type": "code",
   "execution_count": 61,
   "metadata": {},
   "outputs": [
    {
     "data": {
      "text/plain": [
       "[['Shahbaz Muneer', 'Male', 20000, 'AI'],\n",
       " ['Mehwish Ibrahim', 'Female', 30000, 'AA'],\n",
       " ['Alisha khan', 'Female', 60000, 'CA'],\n",
       " ['Nabiha Nafees', 'Female', 50000, 'ML']]"
      ]
     },
     "execution_count": 61,
     "metadata": {},
     "output_type": "execute_result"
    }
   ],
   "source": [
    "employers_top = customers \n",
    "employers_top"
   ]
  },
  {
   "cell_type": "code",
   "execution_count": 74,
   "metadata": {},
   "outputs": [],
   "source": [
    "alisha = sum(employers_top[-2][-2])"
   ]
  },
  {
   "cell_type": "code",
   "execution_count": 75,
   "metadata": {},
   "outputs": [],
   "source": [
    "nabiha = employers_top[-1][-2]\n"
   ]
  },
  {
   "cell_type": "code",
   "execution_count": 76,
   "metadata": {},
   "outputs": [],
   "source": [
    "mehwish = employers_top[1][2]\n"
   ]
  },
  {
   "cell_type": "code",
   "execution_count": 78,
   "metadata": {},
   "outputs": [],
   "source": [
    "shahbaz = employers_top[0][2]\n"
   ]
  },
  {
   "cell_type": "code",
   "execution_count": 79,
   "metadata": {},
   "outputs": [
    {
     "data": {
      "text/plain": [
       "160000"
      ]
     },
     "execution_count": 79,
     "metadata": {},
     "output_type": "execute_result"
    }
   ],
   "source": [
    "alisha +nabiha +mehwish +shahbaz"
   ]
  },
  {
   "cell_type": "code",
   "execution_count": 80,
   "metadata": {},
   "outputs": [
    {
     "data": {
      "text/plain": [
       "[['Shahbaz Muneer', 'Male', 20000, 'AI'],\n",
       " ['Mehwish Ibrahim', 'Female', 30000, 'AA'],\n",
       " ['Alisha khan', 'Female', 60000, 'CA'],\n",
       " ['Nabiha Nafees', 'Female', 50000, 'ML']]"
      ]
     },
     "execution_count": 80,
     "metadata": {},
     "output_type": "execute_result"
    }
   ],
   "source": [
    "employers_top"
   ]
  },
  {
   "cell_type": "markdown",
   "metadata": {},
   "source": [
    "# loop "
   ]
  },
  {
   "cell_type": "code",
   "execution_count": 89,
   "metadata": {},
   "outputs": [
    {
     "name": "stdout",
     "output_type": "stream",
     "text": [
      "20000\n",
      "30000\n",
      "60000\n",
      "50000\n"
     ]
    }
   ],
   "source": [
    "for salary in employers_top:\n",
    "    print(salary[-2])\n",
    "                                       # for means iteration # index \n",
    "    "
   ]
  },
  {
   "cell_type": "code",
   "execution_count": 91,
   "metadata": {},
   "outputs": [
    {
     "name": "stdout",
     "output_type": "stream",
     "text": [
      "Male\n",
      "Female\n",
      "Female\n",
      "Female\n"
     ]
    }
   ],
   "source": [
    "for salary in employers_top:\n",
    "    gender = salary[1]\n",
    "    print(gender)\n"
   ]
  },
  {
   "cell_type": "code",
   "execution_count": 93,
   "metadata": {},
   "outputs": [
    {
     "name": "stdout",
     "output_type": "stream",
     "text": [
      "AI\n",
      "AA\n",
      "CA\n",
      "ML\n"
     ]
    }
   ],
   "source": [
    "for depart in employers_top:\n",
    "    department = depart[-1]\n",
    "    print(department)\n"
   ]
  },
  {
   "cell_type": "code",
   "execution_count": 132,
   "metadata": {},
   "outputs": [
    {
     "data": {
      "text/plain": [
       "[['Shahbaz Muneer', 'Male', 20000, 'AI'],\n",
       " ['Mehwish Ibrahim', 'Female', 30000, 'AA'],\n",
       " ['Alisha khan', 'Female', 60000, 'CA'],\n",
       " ['Nabiha Nafees', 'Female', 50000, 'ML']]"
      ]
     },
     "execution_count": 132,
     "metadata": {},
     "output_type": "execute_result"
    }
   ],
   "source": [
    "employers_top"
   ]
  },
  {
   "cell_type": "code",
   "execution_count": 134,
   "metadata": {},
   "outputs": [
    {
     "name": "stdout",
     "output_type": "stream",
     "text": [
      "Shahbaz Muneer\n",
      "Mehwish Ibrahim\n",
      "Mehwish Ibrahim\n"
     ]
    }
   ],
   "source": [
    "for empl_name in employers_top[0:2]:\n",
    "    employee_name = empl_name[0]\n",
    "    print(employee_name)      # index wise iteration so must write in loop \n",
    "    \n",
    "    \n",
    "print(employee_name)"
   ]
  },
  {
   "cell_type": "code",
   "execution_count": 107,
   "metadata": {},
   "outputs": [
    {
     "name": "stdout",
     "output_type": "stream",
     "text": [
      "Nabiha Nafees\n"
     ]
    }
   ],
   "source": [
    "print(employee_name)"
   ]
  },
  {
   "cell_type": "code",
   "execution_count": 113,
   "metadata": {},
   "outputs": [],
   "source": [
    "a = 9"
   ]
  },
  {
   "cell_type": "code",
   "execution_count": 119,
   "metadata": {},
   "outputs": [],
   "source": [
    "a = 16"
   ]
  },
  {
   "cell_type": "code",
   "execution_count": 120,
   "metadata": {},
   "outputs": [
    {
     "data": {
      "text/plain": [
       "16"
      ]
     },
     "execution_count": 120,
     "metadata": {},
     "output_type": "execute_result"
    }
   ],
   "source": [
    "a\n"
   ]
  },
  {
   "cell_type": "code",
   "execution_count": 123,
   "metadata": {},
   "outputs": [],
   "source": [
    "a = 12"
   ]
  },
  {
   "cell_type": "code",
   "execution_count": 124,
   "metadata": {},
   "outputs": [
    {
     "data": {
      "text/plain": [
       "12"
      ]
     },
     "execution_count": 124,
     "metadata": {},
     "output_type": "execute_result"
    }
   ],
   "source": [
    "a "
   ]
  },
  {
   "cell_type": "code",
   "execution_count": 125,
   "metadata": {},
   "outputs": [],
   "source": [
    "salary = 5000 "
   ]
  },
  {
   "cell_type": "code",
   "execution_count": 126,
   "metadata": {},
   "outputs": [
    {
     "data": {
      "text/plain": [
       "5000"
      ]
     },
     "execution_count": 126,
     "metadata": {},
     "output_type": "execute_result"
    }
   ],
   "source": [
    "salary "
   ]
  },
  {
   "cell_type": "code",
   "execution_count": 127,
   "metadata": {},
   "outputs": [
    {
     "data": {
      "text/plain": [
       "10000"
      ]
     },
     "execution_count": 127,
     "metadata": {},
     "output_type": "execute_result"
    }
   ],
   "source": [
    "salary = 10000\n",
    "salary "
   ]
  },
  {
   "cell_type": "code",
   "execution_count": 128,
   "metadata": {},
   "outputs": [],
   "source": [
    "salary =9000 "
   ]
  },
  {
   "cell_type": "code",
   "execution_count": 129,
   "metadata": {},
   "outputs": [],
   "source": [
    "salary = 10000 "
   ]
  },
  {
   "cell_type": "code",
   "execution_count": 130,
   "metadata": {},
   "outputs": [
    {
     "data": {
      "text/plain": [
       "10000"
      ]
     },
     "execution_count": 130,
     "metadata": {},
     "output_type": "execute_result"
    }
   ],
   "source": [
    "salary "
   ]
  },
  {
   "cell_type": "code",
   "execution_count": 187,
   "metadata": {},
   "outputs": [
    {
     "data": {
      "text/plain": [
       "[['Shahbaz Muneer', 'Male', 20000, 'AI'],\n",
       " ['Mehwish Ibrahim', 'Female', 30000, 'AA'],\n",
       " ['Alisha khan', 'Female', 60000, 'CA'],\n",
       " ['Nabiha Nafees', 'Female', 50000, 'ML']]"
      ]
     },
     "execution_count": 187,
     "metadata": {},
     "output_type": "execute_result"
    }
   ],
   "source": [
    "employers_top"
   ]
  },
  {
   "cell_type": "markdown",
   "metadata": {},
   "source": [
    "# For loop "
   ]
  },
  {
   "cell_type": "code",
   "execution_count": 188,
   "metadata": {},
   "outputs": [],
   "source": [
    "employe_sal = 0 \n",
    "\n",
    "for salary in employers_top:\n",
    "    sal = salary[-2]    \n",
    "    employe_sal += sal\n",
    "    "
   ]
  },
  {
   "cell_type": "code",
   "execution_count": 189,
   "metadata": {},
   "outputs": [
    {
     "data": {
      "text/plain": [
       "160000"
      ]
     },
     "execution_count": 189,
     "metadata": {},
     "output_type": "execute_result"
    }
   ],
   "source": [
    "employe_sal"
   ]
  },
  {
   "cell_type": "code",
   "execution_count": 190,
   "metadata": {},
   "outputs": [
    {
     "data": {
      "text/plain": [
       "[['Shahbaz Muneer', 'Male', 20000, 'AI'],\n",
       " ['Mehwish Ibrahim', 'Female', 30000, 'AA'],\n",
       " ['Alisha khan', 'Female', 60000, 'CA'],\n",
       " ['Nabiha Nafees', 'Female', 50000, 'ML']]"
      ]
     },
     "execution_count": 190,
     "metadata": {},
     "output_type": "execute_result"
    }
   ],
   "source": [
    "employers_top"
   ]
  },
  {
   "cell_type": "code",
   "execution_count": 191,
   "metadata": {},
   "outputs": [],
   "source": [
    "fe_employe_sal = 0 \n",
    "\n",
    "for i in employers_top:\n",
    "    salary = i[-2]\n",
    "    gender = i[1]\n",
    "    if gender == \"Female\":           # comparision  > <,  <=, >=, ===\n",
    "         fe_employe_sal  += salary\n",
    "        \n",
    "    \n",
    "    "
   ]
  },
  {
   "cell_type": "code",
   "execution_count": 193,
   "metadata": {},
   "outputs": [
    {
     "data": {
      "text/plain": [
       "140000"
      ]
     },
     "execution_count": 193,
     "metadata": {},
     "output_type": "execute_result"
    }
   ],
   "source": [
    "fe_employe_sal"
   ]
  },
  {
   "cell_type": "markdown",
   "metadata": {},
   "source": [
    "# Conditional for loop "
   ]
  },
  {
   "cell_type": "code",
   "execution_count": 218,
   "metadata": {},
   "outputs": [
    {
     "name": "stdout",
     "output_type": "stream",
     "text": [
      "Male\n",
      "Female\n",
      "Female\n",
      "Female\n"
     ]
    }
   ],
   "source": [
    "male_employee_sal = 0 \n",
    "\n",
    "for i in employers_top:   # body \n",
    "    salary = i[-2]      # posit\n",
    "    gender = i[1]      #posit\n",
    "    print(gender)\n",
    "    if gender == \"Male\":            # condition \n",
    "        male_employee_sal += salary \n",
    "        \n",
    "                                                     # comparision  > <,  <=, >=, ===\n",
    "            \n",
    "        \n",
    "    "
   ]
  },
  {
   "cell_type": "markdown",
   "metadata": {},
   "source": [
    "# Conditional comparision loops "
   ]
  },
  {
   "cell_type": "code",
   "execution_count": 224,
   "metadata": {},
   "outputs": [],
   "source": [
    "male_employe_sal = 0 \n",
    "\n",
    "for i in employers_top:\n",
    "    salary = i[-2]\n",
    "    gender = i[1]\n",
    "    if gender != \"Female\":           # comparision  > <,  <=, >=, == , != \n",
    "         male_employe_sal  += salary\n",
    "        \n",
    "    \n",
    "    "
   ]
  },
  {
   "cell_type": "code",
   "execution_count": 225,
   "metadata": {},
   "outputs": [
    {
     "data": {
      "text/plain": [
       "20000"
      ]
     },
     "execution_count": 225,
     "metadata": {},
     "output_type": "execute_result"
    }
   ],
   "source": [
    "male_employe_sal"
   ]
  },
  {
   "cell_type": "code",
   "execution_count": 230,
   "metadata": {},
   "outputs": [],
   "source": [
    "employers_top[1][-1] = \"ML\""
   ]
  },
  {
   "cell_type": "code",
   "execution_count": 233,
   "metadata": {},
   "outputs": [
    {
     "data": {
      "text/plain": [
       "[['Shahbaz Muneer', 'Male', 20000, 'AI'],\n",
       " ['Mehwish Ibrahim', 'Female', 30000, 'ML'],\n",
       " ['Alisha khan', 'Female', 60000, 'CA'],\n",
       " ['Nabiha Nafees', 'Female', 50000, 'ML']]"
      ]
     },
     "execution_count": 233,
     "metadata": {},
     "output_type": "execute_result"
    }
   ],
   "source": [
    "employers_top"
   ]
  },
  {
   "cell_type": "markdown",
   "metadata": {},
   "source": [
    "# Logical loops "
   ]
  },
  {
   "cell_type": "code",
   "execution_count": 243,
   "metadata": {},
   "outputs": [
    {
     "name": "stdout",
     "output_type": "stream",
     "text": [
      "80000\n"
     ]
    }
   ],
   "source": [
    "ai_employers_sal = 0 \n",
    "\n",
    "\n",
    "for i in employers_top:\n",
    "    gend = i[1]        #gender\n",
    "    depart = i[-1]      # depart \n",
    "    sal = i[-2]\n",
    "             # true              # true   == true \n",
    "    if gender == \"Female\" and depart == 'ML':      #True  # logical operators , and or , not\n",
    "        ai_employers_sal += sal\n",
    "        \n",
    "print(ai_employers_sal)\n",
    "        \n",
    "\n",
    "                                    #1               # 2    # 2 conditions \n",
    "    # task: find sum of salary of females who have Ml department "
   ]
  },
  {
   "cell_type": "code",
   "execution_count": 247,
   "metadata": {},
   "outputs": [],
   "source": [
    "# familar operators\n",
    "# unfamilar operators \n",
    "# comparision operators (> <,  <=, >=, == , != )\n",
    "# logical operator  ( and, or , not)\n",
    "# membership operators ( in, not in )"
   ]
  },
  {
   "cell_type": "code",
   "execution_count": 255,
   "metadata": {},
   "outputs": [
    {
     "data": {
      "text/plain": [
       "['Mehwish Ibrahim', 'Female', 30000, 'ML']"
      ]
     },
     "execution_count": 255,
     "metadata": {},
     "output_type": "execute_result"
    }
   ],
   "source": [
    "meh = employers_top[1]\n",
    "meh"
   ]
  },
  {
   "cell_type": "code",
   "execution_count": 256,
   "metadata": {},
   "outputs": [
    {
     "data": {
      "text/plain": [
       "False"
      ]
     },
     "execution_count": 256,
     "metadata": {},
     "output_type": "execute_result"
    }
   ],
   "source": [
    "\"Mehwish Ibrahim\" not in meh "
   ]
  },
  {
   "cell_type": "code",
   "execution_count": 258,
   "metadata": {},
   "outputs": [],
   "source": [
    "employe = meh"
   ]
  },
  {
   "cell_type": "code",
   "execution_count": 259,
   "metadata": {},
   "outputs": [
    {
     "data": {
      "text/plain": [
       "['Mehwish Ibrahim', 'Female', 30000, 'ML']"
      ]
     },
     "execution_count": 259,
     "metadata": {},
     "output_type": "execute_result"
    }
   ],
   "source": [
    "employe "
   ]
  },
  {
   "cell_type": "markdown",
   "metadata": {},
   "source": [
    "# Dictionary "
   ]
  },
  {
   "cell_type": "code",
   "execution_count": 263,
   "metadata": {},
   "outputs": [],
   "source": [
    "employe = {\"employe\" : 'Mehwish Ibrahim', \"gender\" :'Female',\"salary\" : 30000, \"depart\" : 'ML'}"
   ]
  },
  {
   "cell_type": "code",
   "execution_count": 264,
   "metadata": {},
   "outputs": [
    {
     "data": {
      "text/plain": [
       "{'employe': 'Mehwish Ibrahim',\n",
       " 'gender': 'Female',\n",
       " 'salary': 30000,\n",
       " 'depart': 'ML'}"
      ]
     },
     "execution_count": 264,
     "metadata": {},
     "output_type": "execute_result"
    }
   ],
   "source": [
    "employe"
   ]
  },
  {
   "cell_type": "code",
   "execution_count": 266,
   "metadata": {},
   "outputs": [],
   "source": [
    "employe[\"employe\"] = \"shahbaz\"   #update "
   ]
  },
  {
   "cell_type": "code",
   "execution_count": 267,
   "metadata": {},
   "outputs": [
    {
     "data": {
      "text/plain": [
       "{'employe': 'shahbaz', 'gender': 'Female', 'salary': 30000, 'depart': 'ML'}"
      ]
     },
     "execution_count": 267,
     "metadata": {},
     "output_type": "execute_result"
    }
   ],
   "source": [
    "employe"
   ]
  },
  {
   "cell_type": "code",
   "execution_count": 268,
   "metadata": {},
   "outputs": [],
   "source": [
    "employe[\"employe_1\"] = \"mehwish\"   # create "
   ]
  },
  {
   "cell_type": "code",
   "execution_count": 269,
   "metadata": {},
   "outputs": [
    {
     "data": {
      "text/plain": [
       "{'employe': 'shahbaz',\n",
       " 'gender': 'Female',\n",
       " 'salary': 30000,\n",
       " 'depart': 'ML',\n",
       " 'employe_1': 'mehwish'}"
      ]
     },
     "execution_count": 269,
     "metadata": {},
     "output_type": "execute_result"
    }
   ],
   "source": [
    "employe"
   ]
  },
  {
   "cell_type": "code",
   "execution_count": null,
   "metadata": {},
   "outputs": [],
   "source": []
  }
 ],
 "metadata": {
  "kernelspec": {
   "display_name": "Python 3",
   "language": "python",
   "name": "python3"
  },
  "language_info": {
   "codemirror_mode": {
    "name": "ipython",
    "version": 3
   },
   "file_extension": ".py",
   "mimetype": "text/x-python",
   "name": "python",
   "nbconvert_exporter": "python",
   "pygments_lexer": "ipython3",
   "version": "3.8.5"
  }
 },
 "nbformat": 4,
 "nbformat_minor": 4
}
